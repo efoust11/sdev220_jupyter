{
 "cells": [
  {
   "cell_type": "markdown",
   "id": "db8da57f-4478-41ed-80bb-415e0aaaf70b",
   "metadata": {},
   "source": [
    "Sort an Array of 0s, 1s, and 2s"
   ]
  },
  {
   "cell_type": "code",
   "execution_count": 1,
   "id": "78f38a7b-6e28-4fb7-85b0-6054b72f0de2",
   "metadata": {},
   "outputs": [],
   "source": [
    "class Solution:\n",
    "    # Function to sort an array of 0s, 1s, and 2s\n",
    "    def sort012(self, arr):\n",
    "        # copy of the array\n",
    "        newArr = arr\n",
    "\n",
    "        #initial counters\n",
    "        count0 = 0\n",
    "        count1 = 0\n",
    "        count2 = 0\n",
    "        \n",
    "        #counting the number of instances of each digit in the array\n",
    "        for i in arr:\n",
    "            if i == 0:\n",
    "                count0 += 1\n",
    "            elif i == 1:\n",
    "                count1 += 1\n",
    "            elif i == 2:\n",
    "                count2 += 1\n",
    "                \n",
    "        #replace the digits in the array so that they are ordered\n",
    "        for j in range(count0):\n",
    "            newArr[j] = 0\n",
    "        for k in range(count0, count0 + count1):\n",
    "            newArr[k] = 1\n",
    "        for l in range(count0 + count1, count0 + count1 + count2):\n",
    "            newArr[l] = 2\n",
    "            \n",
    "        #return the new array\n",
    "        return(newArr)"
   ]
  },
  {
   "cell_type": "code",
   "execution_count": 5,
   "id": "47fb1987-a1be-4d55-b1f8-13f2058f5e8f",
   "metadata": {},
   "outputs": [
    {
     "name": "stdout",
     "output_type": "stream",
     "text": [
      "0 0 1 1 2 2 "
     ]
    }
   ],
   "source": [
    "#test array\n",
    "arr = [0, 1, 2, 0, 1, 2]\n",
    "\n",
    "#calling the sort012 function\n",
    "Solution.sort012(Solution, arr)\n",
    "\n",
    "#print the sorted array\n",
    "for x in arr:\n",
    "  print(x, end = \" \")"
   ]
  },
  {
   "cell_type": "markdown",
   "id": "8f6c2bab-df46-47e4-a202-4fc6c7bb2d5b",
   "metadata": {},
   "source": [
    "Binary Search"
   ]
  },
  {
   "cell_type": "code",
   "execution_count": 6,
   "id": "1d94dd34-91e2-41e9-92ae-9d26450d6647",
   "metadata": {},
   "outputs": [],
   "source": [
    "class Solution:\n",
    "    def binarysearch(self, arr, k):\n",
    "        #the limits of the array\n",
    "        low = 0\n",
    "        high = len(arr) - 1\n",
    "\n",
    "        #function to find the center of an array\n",
    "        center = lambda ends: ends[0] + (ends[1] - ends[0]) // 2\n",
    "\n",
    "        #loop runs until the start and end points of the array are equal\n",
    "        while low <= high:\n",
    "            #calculate the mid point\n",
    "            mid = center([low,high])\n",
    "            #determin if number is above or below the mid point\n",
    "            if k == arr[mid]:\n",
    "                #if the number is found the loop continues\n",
    "                #in case the number is also at an earlier location in the array.\n",
    "                answer = mid\n",
    "                high = mid - 1\n",
    "            elif k > arr[mid]:\n",
    "                low = mid + 1\n",
    "            else:\n",
    "                high = mid - 1\n",
    "        #return the position of the number\n",
    "        return answer"
   ]
  },
  {
   "cell_type": "code",
   "execution_count": 7,
   "id": "b82dca46-c9ed-4c36-8dec-33a2fcbf24ef",
   "metadata": {},
   "outputs": [
    {
     "data": {
      "text/plain": [
       "1"
      ]
     },
     "execution_count": 7,
     "metadata": {},
     "output_type": "execute_result"
    }
   ],
   "source": [
    "#test array\n",
    "arr = [1,2,3,4,5]\n",
    "\n",
    "\n",
    "Solution.binarysearch(Solution, arr, 2)"
   ]
  },
  {
   "cell_type": "code",
   "execution_count": null,
   "id": "12ab33e9-ac6b-4cb9-80ad-d1eadc11f9d4",
   "metadata": {},
   "outputs": [],
   "source": []
  }
 ],
 "metadata": {
  "kernelspec": {
   "display_name": "Python [conda env:base] *",
   "language": "python",
   "name": "conda-base-py"
  },
  "language_info": {
   "codemirror_mode": {
    "name": "ipython",
    "version": 3
   },
   "file_extension": ".py",
   "mimetype": "text/x-python",
   "name": "python",
   "nbconvert_exporter": "python",
   "pygments_lexer": "ipython3",
   "version": "3.12.7"
  }
 },
 "nbformat": 4,
 "nbformat_minor": 5
}
