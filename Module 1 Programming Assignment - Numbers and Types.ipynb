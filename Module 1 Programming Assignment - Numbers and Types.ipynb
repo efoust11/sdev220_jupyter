{
 "cells": [
  {
   "cell_type": "markdown",
   "id": "d5c76dd0-4824-4987-ba90-cf5eeb509300",
   "metadata": {},
   "source": [
    "3.1 How many seconds are in an hour? Use the interactive interpreter as a calculator and multiply the number of seconds in a minute (60) by the number of minutes in an hour (also 60)."
   ]
  },
  {
   "cell_type": "code",
   "execution_count": 10,
   "id": "b6b785bd-c1e7-4358-a8a4-402cf630bc2d",
   "metadata": {},
   "outputs": [
    {
     "data": {
      "text/plain": [
       "3600"
      ]
     },
     "execution_count": 10,
     "metadata": {},
     "output_type": "execute_result"
    }
   ],
   "source": [
    "60*60\n"
   ]
  },
  {
   "cell_type": "markdown",
   "id": "9ffa97f7-7292-44bb-9954-2e1380d6a6d1",
   "metadata": {},
   "source": [
    "3.2 Assign the result from the previous task (seconds in an hour) to a variable called seconds_per_hour."
   ]
  },
  {
   "cell_type": "code",
   "execution_count": 11,
   "id": "5f236f5c-26ba-486d-94a2-0658c393d45c",
   "metadata": {},
   "outputs": [],
   "source": [
    "seconds_per_hour = 3600"
   ]
  },
  {
   "cell_type": "markdown",
   "id": "67507d83-0b1c-44b3-b670-f2e7a67a30de",
   "metadata": {},
   "source": [
    "3.3 How many seconds are in a day? Use your seconds_per_hour variable."
   ]
  },
  {
   "cell_type": "code",
   "execution_count": 12,
   "id": "27ddef90-bfae-4e62-9419-dbccc6f89df0",
   "metadata": {},
   "outputs": [
    {
     "data": {
      "text/plain": [
       "86400"
      ]
     },
     "execution_count": 12,
     "metadata": {},
     "output_type": "execute_result"
    }
   ],
   "source": [
    "24 * seconds_per_hour"
   ]
  },
  {
   "cell_type": "markdown",
   "id": "de433656-301a-4b1c-b6fd-4f70e5e1bb19",
   "metadata": {},
   "source": [
    "3.4 Calculate seconds per day again, but this time save the result in a variable called seconds_per_day."
   ]
  },
  {
   "cell_type": "code",
   "execution_count": 6,
   "id": "d24e8620-24ea-4a6b-8bc6-9b17beacf791",
   "metadata": {},
   "outputs": [],
   "source": [
    "seconds_per_day = hours_per_day * seconds_per_hour"
   ]
  },
  {
   "cell_type": "markdown",
   "id": "546c1fa9-dc19-4f9e-aa8f-dda971e6a7cc",
   "metadata": {},
   "source": [
    "3.5 Divide seconds_per_day by seconds_per_hour. Use floating-point (/) division."
   ]
  },
  {
   "cell_type": "code",
   "execution_count": 8,
   "id": "85066803-cf07-4e25-8f28-87322031aae6",
   "metadata": {},
   "outputs": [
    {
     "data": {
      "text/plain": [
       "24.0"
      ]
     },
     "execution_count": 8,
     "metadata": {},
     "output_type": "execute_result"
    }
   ],
   "source": [
    "seconds_per_day / seconds_per_hour"
   ]
  },
  {
   "cell_type": "markdown",
   "id": "968b159f-969c-4977-ae16-01e7b9a8cc97",
   "metadata": {},
   "source": [
    "3.6 Divide seconds_per_day by seconds_per_hour, using integer (//) division. Did this number agree with the floating-point value from the previous question, aside from the final .0?"
   ]
  },
  {
   "cell_type": "code",
   "execution_count": 9,
   "id": "df591fb9-b271-4870-8ea8-ae33af9bc16f",
   "metadata": {},
   "outputs": [
    {
     "data": {
      "text/plain": [
       "24"
      ]
     },
     "execution_count": 9,
     "metadata": {},
     "output_type": "execute_result"
    }
   ],
   "source": [
    "seconds_per_day // seconds_per_hour"
   ]
  },
  {
   "cell_type": "markdown",
   "id": "11ea90a1-e600-45b2-a6b6-77e01555dde3",
   "metadata": {},
   "source": [
    "Yes, these two numbers agree aside from the final .0"
   ]
  },
  {
   "cell_type": "code",
   "execution_count": null,
   "id": "dc3e60af-8de4-45a1-b3b6-234595159408",
   "metadata": {},
   "outputs": [],
   "source": []
  }
 ],
 "metadata": {
  "kernelspec": {
   "display_name": "Python [conda env:base] *",
   "language": "python",
   "name": "conda-base-py"
  },
  "language_info": {
   "codemirror_mode": {
    "name": "ipython",
    "version": 3
   },
   "file_extension": ".py",
   "mimetype": "text/x-python",
   "name": "python",
   "nbconvert_exporter": "python",
   "pygments_lexer": "ipython3",
   "version": "3.12.7"
  }
 },
 "nbformat": 4,
 "nbformat_minor": 5
}
