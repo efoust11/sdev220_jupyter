{
 "cells": [
  {
   "cell_type": "markdown",
   "id": "06a0cc94-b4e2-43a5-88bb-ccde10eddb4f",
   "metadata": {},
   "source": [
    "13.1 Write the current date as a string to the text file today.txt."
   ]
  },
  {
   "cell_type": "code",
   "execution_count": 28,
   "id": "48691261-5f17-47c9-a6ec-8d3b8016a56d",
   "metadata": {},
   "outputs": [],
   "source": [
    "from datetime import date\n",
    "import datetime\n",
    "fmt = \"%A, %B %d, %Y\"\n",
    "today_date = date.today().strftime(fmt)\n",
    "\n",
    "file = open(\"datefile.txt\",\"w\")\n",
    "file.write(today_date)\n",
    "file.close()\n"
   ]
  },
  {
   "cell_type": "markdown",
   "id": "11d40755-6b74-4f35-bf56-78c6bdff79d1",
   "metadata": {},
   "source": [
    "13.2 Read the text file today.txt into the string today_string."
   ]
  },
  {
   "cell_type": "code",
   "execution_count": 29,
   "id": "d7cde12c-d1b8-4b85-8f83-dab0c68ab877",
   "metadata": {},
   "outputs": [],
   "source": [
    "file = open(\"datefile.txt\",\"r\")\n",
    "today_string = file.read()\n",
    "file.close()"
   ]
  },
  {
   "cell_type": "markdown",
   "id": "480847d4-735b-46c6-a3d7-e9c56956b759",
   "metadata": {},
   "source": [
    "13.3 Parse the date from today_string."
   ]
  },
  {
   "cell_type": "code",
   "execution_count": 30,
   "id": "2f0482f2-c541-46fd-9bcf-62141d724d88",
   "metadata": {},
   "outputs": [
    {
     "data": {
      "text/plain": [
       "time.struct_time(tm_year=2025, tm_mon=7, tm_mday=12, tm_hour=0, tm_min=0, tm_sec=0, tm_wday=5, tm_yday=193, tm_isdst=-1)"
      ]
     },
     "execution_count": 30,
     "metadata": {},
     "output_type": "execute_result"
    }
   ],
   "source": [
    "import time\n",
    "time.strptime(today_string, fmt)"
   ]
  },
  {
   "cell_type": "markdown",
   "id": "0f6ad903-f135-4484-983a-536426e789e5",
   "metadata": {},
   "source": [
    "15.1 Use multiprocessing to create three separate processes. Make each one wait a random number of seconds between zero and one, print the current time, and then exit."
   ]
  },
  {
   "cell_type": "code",
   "execution_count": null,
   "id": "8c213379-e6ae-4079-8eec-7718ece50ba3",
   "metadata": {},
   "outputs": [],
   "source": [
    "import multiprocessing\n",
    "import random\n",
    "import os\n",
    "\n",
    "process1 =  random.randint(0, 1)\n",
    "process2 =  random.randint(0, 1)\n",
    "process3 =  random.randint(0, 1)\n",
    "\n",
    "def wait1(num):\n",
    "    time.sleep(nume)\n",
    "    now = time.localtime()\n",
    "    print(now)\n",
    "\n",
    "def wait2(num):\n",
    "    time.sleep(num)\n",
    "    now = time.localtime()\n",
    "    print(now)\n",
    "\n",
    "def wait3(num):\n",
    "    time.sleep(num)\n",
    "    now = time.localtime()\n",
    "    print(now)\n",
    "\n",
    "if __name__ == \"__main__\":\n",
    "    p1 = multiprocessing.Process(target = wait1, args=(process1,))\n",
    "    p2 = multiprocessing.Process(target = wait2, args=(process2,))\n",
    "    p3 = multiprocessing.Process(target = wait3, args=(process3,))\n",
    "    p1.start()\n",
    "    p2.start()\n",
    "    p3.start()\n",
    "    time.sleep(5)\n",
    "    p1.terminate\n",
    "    p2.terminate\n",
    "    p3.terminate\n",
    "\n"
   ]
  },
  {
   "cell_type": "code",
   "execution_count": null,
   "id": "46bb9127-a97c-46d4-8297-0cfdcea8c28b",
   "metadata": {},
   "outputs": [],
   "source": []
  },
  {
   "cell_type": "code",
   "execution_count": null,
   "id": "c5a81a5b-5f8a-4409-ad8c-c7f4d05e9a6c",
   "metadata": {},
   "outputs": [],
   "source": []
  }
 ],
 "metadata": {
  "kernelspec": {
   "display_name": "Python [conda env:base] *",
   "language": "python",
   "name": "conda-base-py"
  },
  "language_info": {
   "codemirror_mode": {
    "name": "ipython",
    "version": 3
   },
   "file_extension": ".py",
   "mimetype": "text/x-python",
   "name": "python",
   "nbconvert_exporter": "python",
   "pygments_lexer": "ipython3",
   "version": "3.12.7"
  }
 },
 "nbformat": 4,
 "nbformat_minor": 5
}
