{
 "cells": [
  {
   "cell_type": "markdown",
   "id": "1bc104b3-ba40-46a1-a94e-5e3f0482111a",
   "metadata": {},
   "source": [
    "11.1 Create a file called zoo.py. In it, define a function called hours() that prints the string 'Open 9-5 daily'. Then, use the interactive interpreter to import the zoo module and call its hours() function."
   ]
  },
  {
   "cell_type": "code",
   "execution_count": 5,
   "id": "a4884860-0673-4cca-a943-c27bb7e0e213",
   "metadata": {},
   "outputs": [
    {
     "name": "stdout",
     "output_type": "stream",
     "text": [
      "Open 9-5 daily\n"
     ]
    }
   ],
   "source": [
    "import zoo\n",
    "\n",
    "zoo.hours()"
   ]
  },
  {
   "cell_type": "markdown",
   "id": "8da35bff-aefe-4a62-b332-2a23c1fe7e9d",
   "metadata": {},
   "source": [
    "11.2 In the interactive interpreter, import the zoo module as menagerie and call its hours() function."
   ]
  },
  {
   "cell_type": "code",
   "execution_count": 6,
   "id": "27e32132-fdc6-4323-8add-a95dc7ebe6df",
   "metadata": {},
   "outputs": [
    {
     "name": "stdout",
     "output_type": "stream",
     "text": [
      "Open 9-5 daily\n"
     ]
    }
   ],
   "source": [
    "import zoo as menagerie\n",
    "\n",
    "menagerie.hours()"
   ]
  },
  {
   "cell_type": "markdown",
   "id": "b3ba90a9-93aa-4648-97f1-05cafc11fdc4",
   "metadata": {},
   "source": [
    "16.8 Use the sqlalchemy module to connect to the sqlite3 database books.db that you just made in exercise 16.4. As in 16.6, select and print the title column from the book table in alphabetical order."
   ]
  },
  {
   "cell_type": "code",
   "execution_count": 2,
   "id": "067f5aca-b898-4a32-ba32-713ee3e8cc64",
   "metadata": {},
   "outputs": [
    {
     "data": {
      "text/plain": [
       "<sqlite3.Cursor at 0x191c2134340>"
      ]
     },
     "execution_count": 2,
     "metadata": {},
     "output_type": "execute_result"
    }
   ],
   "source": [
    "import sqlite3\n",
    "import sqlalchemy as sa\n",
    "\n",
    "conn = sqlite3.connect('books.db')\n",
    "curs = conn.cursor()\n",
    "\n",
    "curs.execute('''CREATE TABLE books\n",
    "    (title VARCHAR(20) PRIMARY KEY,\n",
    "     author VARCHAR(20),\n",
    "     year INT(4))''')\n",
    "\n",
    "curs.execute('INSERT INTO books VALUES(\"The Weirdstone of Brisingamen\",\"Alan Garner\",1960)')\n",
    "curs.execute('INSERT INTO books VALUES(\"Perdido Street Station\",\"China Miéville\",2000)')\n",
    "curs.execute('INSERT INTO books VALUES(\"Thud!\",\"Terry Pratchett\",2005)')\n",
    "curs.execute('INSERT INTO books VALUES(\"The Spellman Files\",\"Lisa Lutz\",2007)')\n",
    "curs.execute('INSERT INTO books VALUES(\"Small Gods\",\"Terry Pratchett\",1992)')\n",
    "\n"
   ]
  },
  {
   "cell_type": "code",
   "execution_count": 3,
   "id": "b4c399cd-e35f-427c-a0d6-6eac28223363",
   "metadata": {},
   "outputs": [
    {
     "name": "stdout",
     "output_type": "stream",
     "text": [
      "[('Perdido Street Station',), ('Small Gods',), ('The Spellman Files',), ('The Weirdstone of Brisingamen',), ('Thud!',)]\n"
     ]
    }
   ],
   "source": [
    "rows = conn.execute('SELECT title FROM books')\n",
    "\n",
    "arr = []\n",
    "for i in rows:\n",
    "    arr.append(i)\n",
    "\n",
    "print(sorted(arr))\n"
   ]
  },
  {
   "cell_type": "code",
   "execution_count": 4,
   "id": "3cda49ab-0f1c-44f6-91b0-b7a28427a780",
   "metadata": {},
   "outputs": [],
   "source": [
    "      \n",
    "curs.close()\n",
    "conn.close()"
   ]
  },
  {
   "cell_type": "code",
   "execution_count": null,
   "id": "59d091b8-3442-41b8-b378-1a4393f0e980",
   "metadata": {},
   "outputs": [],
   "source": []
  }
 ],
 "metadata": {
  "kernelspec": {
   "display_name": "Python [conda env:base] *",
   "language": "python",
   "name": "conda-base-py"
  },
  "language_info": {
   "codemirror_mode": {
    "name": "ipython",
    "version": 3
   },
   "file_extension": ".py",
   "mimetype": "text/x-python",
   "name": "python",
   "nbconvert_exporter": "python",
   "pygments_lexer": "ipython3",
   "version": "3.12.7"
  }
 },
 "nbformat": 4,
 "nbformat_minor": 5
}
