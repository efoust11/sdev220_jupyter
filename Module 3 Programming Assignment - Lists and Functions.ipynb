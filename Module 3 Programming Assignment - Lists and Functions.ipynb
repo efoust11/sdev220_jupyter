{
 "cells": [
  {
   "cell_type": "markdown",
   "id": "edbd6d94-314e-48df-b41c-c0cb35f10a02",
   "metadata": {},
   "source": [
    "7.4 Make a list called things with these three strings as elements: \"mozzarella\", \"cinderella\", \"salmonella\"."
   ]
  },
  {
   "cell_type": "code",
   "execution_count": 2,
   "id": "06b8f1c7-4e56-4241-bfad-649803037e53",
   "metadata": {},
   "outputs": [],
   "source": [
    "things = [\"mozzarella\",\"cinderlla\",\"salmonella\"]"
   ]
  },
  {
   "cell_type": "markdown",
   "id": "d4ec6891-6936-4388-8da8-0e92d8bd9c04",
   "metadata": {},
   "source": [
    "7.5 Capitalize the element in things that refers to a person and then print the list. Did it change the element in the list?"
   ]
  },
  {
   "cell_type": "code",
   "execution_count": 4,
   "id": "f491cc64-a9c7-4fca-a29f-caeaa8d126bd",
   "metadata": {},
   "outputs": [
    {
     "name": "stdout",
     "output_type": "stream",
     "text": [
      "['mozzarella', 'Cinderlla', 'salmonella']\n"
     ]
    }
   ],
   "source": [
    "things[1] = things[1].capitalize()\n",
    "print(things)"
   ]
  },
  {
   "cell_type": "markdown",
   "id": "4f0bf2ab-de36-4531-93b3-e5d8da205fd7",
   "metadata": {},
   "source": [
    "Yes, the element in the list was changed"
   ]
  },
  {
   "cell_type": "markdown",
   "id": "0ca1ba85-4897-4a9a-adee-e8522bc9238c",
   "metadata": {},
   "source": [
    "7.6 Make the cheesy element of things all uppercase and then print the list."
   ]
  },
  {
   "cell_type": "code",
   "execution_count": 6,
   "id": "03ccf27e-81ba-4c96-9616-36f7ddfd7b5b",
   "metadata": {},
   "outputs": [
    {
     "name": "stdout",
     "output_type": "stream",
     "text": [
      "['MOZZARELLA', 'Cinderlla', 'salmonella']\n"
     ]
    }
   ],
   "source": [
    "things[0] = things[0].upper()\n",
    "print(things)"
   ]
  },
  {
   "cell_type": "markdown",
   "id": "b84457d1-255a-4cf0-889e-a5274cfff7bb",
   "metadata": {},
   "source": [
    "7.7 Delete the disease element from things, collect your Nobel Prize, and print the list."
   ]
  },
  {
   "cell_type": "code",
   "execution_count": 7,
   "id": "5718e2ec-fbe5-4daf-84eb-e186e69d9da1",
   "metadata": {},
   "outputs": [
    {
     "name": "stdout",
     "output_type": "stream",
     "text": [
      "['MOZZARELLA', 'Cinderlla']\n"
     ]
    }
   ],
   "source": [
    "del things[2]\n",
    "print(things)"
   ]
  },
  {
   "cell_type": "markdown",
   "id": "9b3987f7-85d7-432e-8595-dfe5ea143a83",
   "metadata": {},
   "source": [
    "9.1 Define a function called good() that returns the following list: ['Harry', 'Ron', 'Hermione']."
   ]
  },
  {
   "cell_type": "code",
   "execution_count": 19,
   "id": "3f13c05d-907c-4b41-883b-efc0e4c6acc0",
   "metadata": {},
   "outputs": [],
   "source": [
    "def good():\n",
    "    return(['Harry','Ron','Hermione'])"
   ]
  },
  {
   "cell_type": "markdown",
   "id": "ed1b24f5-4829-4cce-80ad-3dd16f59470d",
   "metadata": {},
   "source": [
    "9.2 Define a generator function called get_odds() that returns the odd numbers from range(10). Use a for loop to find and print the third value returned."
   ]
  },
  {
   "cell_type": "code",
   "execution_count": 26,
   "id": "4b083272-ea96-48e8-8664-ec41cfc37288",
   "metadata": {},
   "outputs": [
    {
     "name": "stdout",
     "output_type": "stream",
     "text": [
      "5\n"
     ]
    }
   ],
   "source": [
    "def get_odds(first = 0, last = 10, step = 2):\n",
    "    number = first + 1\n",
    "    while number < last:\n",
    "        yield number\n",
    "        number += step\n",
    "\n",
    "newrange = get_odds()\n",
    "\n",
    "inc = 1\n",
    "for i in newrange:\n",
    "    if inc == 3:\n",
    "        print(i)\n",
    "    inc += 1\n"
   ]
  },
  {
   "cell_type": "code",
   "execution_count": null,
   "id": "8b121ed6-96ae-48bf-ae6f-e32c6819b225",
   "metadata": {},
   "outputs": [],
   "source": []
  }
 ],
 "metadata": {
  "kernelspec": {
   "display_name": "Python [conda env:base] *",
   "language": "python",
   "name": "conda-base-py"
  },
  "language_info": {
   "codemirror_mode": {
    "name": "ipython",
    "version": 3
   },
   "file_extension": ".py",
   "mimetype": "text/x-python",
   "name": "python",
   "nbconvert_exporter": "python",
   "pygments_lexer": "ipython3",
   "version": "3.12.7"
  }
 },
 "nbformat": 4,
 "nbformat_minor": 5
}
